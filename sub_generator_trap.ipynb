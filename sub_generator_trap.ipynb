{
 "cells": [
  {
   "cell_type": "markdown",
   "metadata": {},
   "source": [
    "See some code!"
   ]
  },
  {
   "cell_type": "code",
   "execution_count": 3,
   "metadata": {},
   "outputs": [
    {
     "name": "stdout",
     "output_type": "stream",
     "text": [
      "2\n"
     ]
    }
   ],
   "source": [
    "def get1(x):\n",
    "    sum = x + 1\n",
    "    yield sum\n",
    "    if sum > 3:\n",
    "        pass\n",
    "    else:\n",
    "        get1(sum)\n",
    " \n",
    "for i in get1(1):\n",
    "    print(i)"
   ]
  },
  {
   "cell_type": "markdown",
   "metadata": {},
   "source": [
    "you can see from the results that the `get1` function only return once. It looks like the code at line 7 don't have any effects.\n",
    "\n",
    "the reason of this is that: the `get1()` call at line 7 only return a generator and this generator don't return by outlier `get1`"
   ]
  },
  {
   "cell_type": "markdown",
   "metadata": {},
   "source": [
    "If I change code to this, it will work, but ugly"
   ]
  },
  {
   "cell_type": "code",
   "execution_count": 8,
   "metadata": {},
   "outputs": [
    {
     "name": "stdout",
     "output_type": "stream",
     "text": [
      "2\n",
      "3\n",
      "4\n"
     ]
    }
   ],
   "source": [
    "def get1(x):\n",
    "    sum = x + 1\n",
    "    yield sum\n",
    "    if sum > 3:\n",
    "        pass\n",
    "    else:\n",
    "        for i in get1(sum):\n",
    "            yield i\n",
    " \n",
    "for i in get1(1):\n",
    "    print(i)"
   ]
  },
  {
   "cell_type": "markdown",
   "metadata": {},
   "source": [
    "luckily, we have another way of doing it: `yield from`"
   ]
  },
  {
   "cell_type": "code",
   "execution_count": 9,
   "metadata": {},
   "outputs": [
    {
     "name": "stdout",
     "output_type": "stream",
     "text": [
      "2\n",
      "3\n",
      "4\n"
     ]
    }
   ],
   "source": [
    "def get1(x):\n",
    "    sum = x + 1\n",
    "    yield sum\n",
    "    if sum > 3:\n",
    "        pass\n",
    "    else:\n",
    "        yield from get1(sum)\n",
    " \n",
    "for i in get1(1):\n",
    "    print(i)"
   ]
  },
  {
   "cell_type": "code",
   "execution_count": null,
   "metadata": {
    "collapsed": true
   },
   "outputs": [],
   "source": []
  }
 ],
 "metadata": {
  "kernelspec": {
   "display_name": "Python 3",
   "language": "python",
   "name": "python3"
  },
  "language_info": {
   "codemirror_mode": {
    "name": "ipython",
    "version": 3
   },
   "file_extension": ".py",
   "mimetype": "text/x-python",
   "name": "python",
   "nbconvert_exporter": "python",
   "pygments_lexer": "ipython3",
   "version": "3.6.1"
  }
 },
 "nbformat": 4,
 "nbformat_minor": 2
}
