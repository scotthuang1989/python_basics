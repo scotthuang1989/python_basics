{
 "cells": [
  {
   "cell_type": "markdown",
   "metadata": {},
   "source": [
    "* Function decorators: do name rebinding at function definition time, providing a layer of logic that can manage functions and methods, or later calls to them.\n",
    "\n",
    "* Class decorators, do name rebinding at class definition time, providing a layer of logic that can manage classes, or the instances created by later calls to them."
   ]
  },
  {
   "cell_type": "markdown",
   "metadata": {},
   "source": [
    "In short, decorators provide a way of inserting automatically run code at the end of function and class definition statements."
   ]
  },
  {
   "cell_type": "markdown",
   "metadata": {},
   "source": [
    "## Managing Functions and Classes"
   ]
  },
  {
   "cell_type": "markdown",
   "metadata": {},
   "source": [
    "* Function managers\n",
    "\n",
    "* Class managers\n",
    "\n",
    "Class decorators can also be used to manage class objects directly, instead of or addition to instance creation calls - to augment a class with new methods."
   ]
  },
  {
   "cell_type": "markdown",
   "metadata": {},
   "source": [
    "## Function Decorators"
   ]
  },
  {
   "cell_type": "code",
   "execution_count": null,
   "metadata": {},
   "outputs": [],
   "source": [
    "@decorator\n",
    "def F(arg):\n",
    "    pass\n",
    "\n",
    "F(99)"
   ]
  },
  {
   "cell_type": "markdown",
   "metadata": {},
   "source": [
    "`decorater` is a one-argument callable object.\n",
    "\n",
    "Call F is equivalent to call whatever decorator returs\n",
    "\n",
    "The decorator is invoked at decoration time, and the callable it returns is invoked when the original function name is latter called.|"
   ]
  },
  {
   "cell_type": "markdown",
   "metadata": {},
   "source": [
    "## Class Decorators"
   ]
  },
  {
   "cell_type": "markdown",
   "metadata": {},
   "source": [
    "The class is automatically passed to the decorator function, and the decorator's result is assigned back to the class name. The net effect is that calling the class name later to create an instance winds up trggering the callable returned by the decorator, which may or may not call the call itself."
   ]
  },
  {
   "cell_type": "code",
   "execution_count": 30,
   "metadata": {},
   "outputs": [],
   "source": [
    "def register_symbol_modality(name='defaut'):\n",
    "    print(\"decorated\")\n",
    "    print(name()())\n",
    "    return name"
   ]
  },
  {
   "cell_type": "code",
   "execution_count": 31,
   "metadata": {},
   "outputs": [
    {
     "name": "stdout",
     "output_type": "stream",
     "text": [
      "decorated\n",
      "in A\n",
      "None\n"
     ]
    }
   ],
   "source": [
    "@register_symbol_modality\n",
    "class A:\n",
    "    def __call__(self):\n",
    "        print(\"in A\")"
   ]
  },
  {
   "cell_type": "code",
   "execution_count": 32,
   "metadata": {},
   "outputs": [
    {
     "data": {
      "text/plain": [
       "<__main__.A at 0x1f689848588>"
      ]
     },
     "execution_count": 32,
     "metadata": {},
     "output_type": "execute_result"
    }
   ],
   "source": [
    "A()"
   ]
  },
  {
   "cell_type": "code",
   "execution_count": null,
   "metadata": {},
   "outputs": [],
   "source": []
  }
 ],
 "metadata": {
  "kernelspec": {
   "display_name": "Python 3",
   "language": "python",
   "name": "python3"
  },
  "language_info": {
   "codemirror_mode": {
    "name": "ipython",
    "version": 3
   },
   "file_extension": ".py",
   "mimetype": "text/x-python",
   "name": "python",
   "nbconvert_exporter": "python",
   "pygments_lexer": "ipython3",
   "version": "3.6.3"
  }
 },
 "nbformat": 4,
 "nbformat_minor": 2
}
