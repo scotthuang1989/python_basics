{
 "cells": [
  {
   "cell_type": "markdown",
   "metadata": {},
   "source": [
    "## Example"
   ]
  },
  {
   "cell_type": "code",
   "execution_count": 1,
   "metadata": {
    "collapsed": true
   },
   "outputs": [],
   "source": [
    "class Person:\n",
    "    def __init__(self, name):\n",
    "        self._name = name\n",
    "    def getName(self):\n",
    "        print(\"fetch...\")\n",
    "        return self._name\n",
    "        \n",
    "    def setName(self, value):\n",
    "        print(\"change...\")\n",
    "        self._name = value\n",
    "        \n",
    "    def delName(self):\n",
    "        print(\"remove...\")\n",
    "        del self._name\n",
    "        \n",
    "    name = property(getName, setName, delName, \"name property docs\")"
   ]
  },
  {
   "cell_type": "code",
   "execution_count": 2,
   "metadata": {},
   "outputs": [
    {
     "name": "stdout",
     "output_type": "stream",
     "text": [
      "fetch...\n",
      "Bob Smith\n",
      "change...\n",
      "fetch...\n",
      "Robert Smith\n",
      "remove...\n",
      "--------------------\n",
      "fetch...\n",
      "Sue Jones\n",
      "name property docs\n"
     ]
    }
   ],
   "source": [
    "bob = Person(\"Bob Smith\")\n",
    "print(bob.name)\n",
    "bob.name = \"Robert Smith\"\n",
    "print(bob.name)\n",
    "del bob.name\n",
    "print('-'*20)\n",
    "sue = Person(\"Sue Jones\")\n",
    "print(sue.name)\n",
    "print(Person.name.__doc__)"
   ]
  },
  {
   "cell_type": "markdown",
   "metadata": {},
   "source": [
    "## Coding Properties with Decorators"
   ]
  },
  {
   "cell_type": "code",
   "execution_count": null,
   "metadata": {
    "collapsed": true
   },
   "outputs": [],
   "source": [
    "class Person:\n",
    "    def __init__(self, name):\n",
    "        self._name = name\n",
    "        \n",
    "    @property\n",
    "    def name(self):\n",
    "        \"name property docs\"\n",
    "        print('fetch...')\n",
    "        return self._name\n",
    "    \n",
    "    @name.setter\n",
    "    def name(self, value):\n",
    "        print('change...')\n",
    "        self._name = value\n",
    "        \n",
    "    @name.deleter\n",
    "    def name(self):\n",
    "        print(\"remove...\")\n",
    "        del self._name\n",
    "        "
   ]
  }
 ],
 "metadata": {
  "kernelspec": {
   "display_name": "Python 3",
   "language": "python",
   "name": "python3"
  },
  "language_info": {
   "codemirror_mode": {
    "name": "ipython",
    "version": 3
   },
   "file_extension": ".py",
   "mimetype": "text/x-python",
   "name": "python",
   "nbconvert_exporter": "python",
   "pygments_lexer": "ipython3",
   "version": "3.6.1"
  }
 },
 "nbformat": 4,
 "nbformat_minor": 2
}
